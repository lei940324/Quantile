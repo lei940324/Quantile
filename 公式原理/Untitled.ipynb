{
 "cells": [
  {
   "cell_type": "markdown",
   "metadata": {},
   "source": [
    "待估计方程：\n",
    "$$\n",
    "Q_{Y_{t}}\\left[\\tau | Z_{t-1}\\right]=a(\\tau)+Y_{t-1, p}^{\\prime} \\alpha(\\tau)+X_{t-1, q}^{\\prime} \\beta(\\tau)=Z_{t-1}^{\\prime} \\theta(\\tau)\n",
    "$$\n",
    "其中，$a(\\tau)$为截距项，$\\alpha(\\tau)$和$\\beta(\\tau)$为回归系数列向量；$\\theta(\\tau)$为回归系数向量，\n",
    "$$\n",
    "a(\\tau)=\\left[alpha(\\tau), \\alpha(\\tau)^{\\prime}, \\beta(\\tau)^{\\prime}\\right]^{\\prime}​\n",
    "$$\n",
    "\n",
    "$$\n",
    "\\quad Y_{t-1, p}^{\\prime}=\\left(Y_{t-1}, \\cdots, Y_{t-p}\\right)\n",
    "$$\n",
    "\n",
    "$$\n",
    "\\quad X_{t-1, q}^{\\prime}=\\left(X_{t-1}, \\cdots, X_{t-q}\\right)\n",
    "$$\n",
    "\n",
    "$$\n",
    "Z_{t-1}^{\\prime}=\\left(Y_{t-1, p}^{\\prime}, X_{t-1, q}^{\\prime}\\right)\n",
    "$$\n",
    "\n",
    "Wald检验量为：$\\mathrm{W}_{T}(\\tau)=T \\frac{\\hat{\\beta}(\\tau)^{\\prime} \\hat{\\Sigma}(\\tau)^{-1} \\hat{\\beta}(\\tau)}{\\tau(1-\\tau)}$\n",
    "\n",
    "Sup-Wald检验量为：$$\\sup W_{T}=\\sup _{i=1, \\cdots, n} W_{T\\left(\\tau_{i}\\right)} $$\n",
    "\n",
    "> Python在进行分位数回归时，方差默认为核估计"
   ]
  },
  {
   "cell_type": "code",
   "execution_count": null,
   "metadata": {},
   "outputs": [],
   "source": []
  }
 ],
 "metadata": {
  "kernelspec": {
   "display_name": "Python 3",
   "language": "python",
   "name": "python3"
  },
  "language_info": {
   "codemirror_mode": {
    "name": "ipython",
    "version": 3
   },
   "file_extension": ".py",
   "mimetype": "text/x-python",
   "name": "python",
   "nbconvert_exporter": "python",
   "pygments_lexer": "ipython3",
   "version": "3.7.6"
  }
 },
 "nbformat": 4,
 "nbformat_minor": 4
}
